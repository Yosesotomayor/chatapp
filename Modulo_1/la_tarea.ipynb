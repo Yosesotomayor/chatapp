{
  "cells": [
    {
      "cell_type": "markdown",
      "metadata": {
        "id": "lvkMXFuZw3kY"
      },
      "source": [
        "<h1 style=\"text-align: center;\"> TC3006C: Inteligencia artificial avanzada para la ciencia de datos I</h1>\n",
        "<p></p>\n",
        "<div style=\"text-align: center;\"> <em>Significance test for the coefficients</em> </div>"
      ]
    },
    {
      "cell_type": "markdown",
      "metadata": {
        "id": "vgcpnIlmyg88"
      },
      "source": [
        "___\n",
        "\n",
        "Here, we are following chapter 3 of *Introduction to Time Series Analysis and Forecasting*, by Douglas C. Montgomery, Cheryl L. Jennings, and Murat Kulahci\n",
        "\n",
        "___"
      ]
    },
    {
      "cell_type": "markdown",
      "metadata": {
        "id": "j3zE7wJFw3ke"
      },
      "source": [
        "### 3.1 &nbsp;&nbsp; Introduction\n",
        "\n",
        "The **multilinear regression model** is $$y = \\beta_0 + \\beta_1 x_1 + \\beta_2 x_2 + \\ldots + \\beta_k x_k + \\varepsilon.$$ We typically assume that $\\varepsilon \\sim N(0,\\sigma^2)$, where the variance $\\sigma^2$ is constant. This means that $\\varepsilon$ does not depend on any of the predictor variables. The previous model is linear because it is linear in the unknown parameters $\\beta_j$, and not because they necessarily describe linear relationships between the response and the regressors. The unknown parameters $\\beta_j$ in a linear regression model are typically estimated using the method of least squares.\n",
        "___"
      ]
    },
    {
      "cell_type": "markdown",
      "metadata": {
        "id": "Y-nOa2j_w3kf"
      },
      "source": [
        "### 3.2 &nbsp;&nbsp; Least Squares Estimation in Linear Regression Models\n",
        "\n",
        "Suppose that the regression model is used with cross-sectional data:\n",
        "- there are $n>k$ observations, and\n",
        "- the error term $\\varepsilon$ has expected value $E[\\varepsilon]=0$ and variance $\\mathrm{Var}(\\varepsilon) = \\sigma^2$, and that the errors $\\varepsilon_i$, $i=1,2,\\ldots,n$ are uncorrelated.\n",
        "\n",
        "First of all, note that the multiple linear regression model may be written in matrix notation $$y = X\\beta + \\varepsilon,$$ where $$ y = \\begin{bmatrix} y_1 \\\\ y_2 \\\\ \\vdots \\\\ y_n \\end{bmatrix}, \\quad X = \\begin{bmatrix} 1 & x_{11} & x_{12} & \\ldots & x_{1k} \\\\ 1 & x_{21} & x_{22} & \\ldots & x_{2k} \\\\ \\vdots & \\vdots & \\vdots & \\ldots & \\vdots \\\\ 1 & x_{n1} & x_{n2} & \\ldots & x_{nk} \\end{bmatrix}, \\quad \\beta = \\begin{bmatrix} \\beta_1 \\\\ \\beta_2 \\\\ \\vdots \\\\ \\beta_n \\end{bmatrix}, \\quad \\varepsilon = \\begin{bmatrix} \\varepsilon_1 \\\\ \\varepsilon_2 \\\\ \\vdots \\\\ \\varepsilon_n \\end{bmatrix}.$$\n",
        "\n",
        "Secondly, the vector of least squares estimators minimizes $$L = \\sum_{i=1}^{n} \\varepsilon_i = \\varepsilon^{\\mathrm{t}}\\varepsilon = (y-X\\beta)^{\\mathrm{t}}(y-X\\beta) = y^{\\mathrm{t}}y - 2\\beta^{\\mathrm{t}}X^{\\mathrm{t}}y + \\beta^{\\mathrm{t}}X^{\\mathrm{t}}X\\beta,$$ where we have used the identity $(\\beta^{\\mathrm{t}}X^{\\mathrm{t}}y)^{\\mathrm{t}} = y^{\\mathrm{t}}X\\beta$, which is true since $\\beta^{\\mathrm{t}}X^{\\mathrm{t}}y$ is a $1\\times{}1$ matrix.\n",
        "\n",
        "Finally, from $(\\partial{}L/\\partial{}\\beta)|_{\\hat{\\beta}} = 0$, we obtain the so called **normal equations** $$(X^{\\mathrm{t}}X)\\hat{\\beta} = X^{\\mathrm{t}}y,$$ where $X^{\\mathrm{t}}X$ is a $p\\times{}p$ symmetric matrix and $X^{\\mathrm{t}}y$ is a $p\\times{}1$ column vector. Assuming that $(X^{\\mathrm{t}}X)^{-1}$ exists, then we have $$\\hat{\\beta} = (X^{\\mathrm{t}}X)^{-1}X^{\\mathrm{t}}y.$$\n",
        "\n",
        "The least square estimator $\\hat{\\beta}$ has nice properties\n",
        "- $E[\\hat{\\beta}] = \\beta$\n",
        "- $\\mathrm{Var}(\\hat{\\beta}) = \\sigma^2(X^{\\mathrm{t}}X)^{-1}$\n"
      ]
    },
    {
      "cell_type": "markdown",
      "metadata": {
        "id": "eTHJLBEXw3kh"
      },
      "source": [
        "**Example**"
      ]
    },
    {
      "cell_type": "code",
      "execution_count": 18,
      "metadata": {
        "id": "hNxXuMlQw3ki"
      },
      "outputs": [
        {
          "data": {
            "text/html": [
              "<div>\n",
              "<style scoped>\n",
              "    .dataframe tbody tr th:only-of-type {\n",
              "        vertical-align: middle;\n",
              "    }\n",
              "\n",
              "    .dataframe tbody tr th {\n",
              "        vertical-align: top;\n",
              "    }\n",
              "\n",
              "    .dataframe thead th {\n",
              "        text-align: right;\n",
              "    }\n",
              "</style>\n",
              "<table border=\"1\" class=\"dataframe\">\n",
              "  <thead>\n",
              "    <tr style=\"text-align: right;\">\n",
              "      <th></th>\n",
              "      <th>obs</th>\n",
              "      <th>age</th>\n",
              "      <th>severity</th>\n",
              "      <th>satisfaction</th>\n",
              "      <th>constant</th>\n",
              "    </tr>\n",
              "  </thead>\n",
              "  <tbody>\n",
              "    <tr>\n",
              "      <th>0</th>\n",
              "      <td>1</td>\n",
              "      <td>55</td>\n",
              "      <td>50</td>\n",
              "      <td>68</td>\n",
              "      <td>1</td>\n",
              "    </tr>\n",
              "    <tr>\n",
              "      <th>1</th>\n",
              "      <td>2</td>\n",
              "      <td>46</td>\n",
              "      <td>24</td>\n",
              "      <td>77</td>\n",
              "      <td>1</td>\n",
              "    </tr>\n",
              "    <tr>\n",
              "      <th>2</th>\n",
              "      <td>3</td>\n",
              "      <td>30</td>\n",
              "      <td>46</td>\n",
              "      <td>96</td>\n",
              "      <td>1</td>\n",
              "    </tr>\n",
              "    <tr>\n",
              "      <th>3</th>\n",
              "      <td>4</td>\n",
              "      <td>35</td>\n",
              "      <td>48</td>\n",
              "      <td>80</td>\n",
              "      <td>1</td>\n",
              "    </tr>\n",
              "    <tr>\n",
              "      <th>4</th>\n",
              "      <td>5</td>\n",
              "      <td>59</td>\n",
              "      <td>58</td>\n",
              "      <td>43</td>\n",
              "      <td>1</td>\n",
              "    </tr>\n",
              "    <tr>\n",
              "      <th>5</th>\n",
              "      <td>6</td>\n",
              "      <td>61</td>\n",
              "      <td>60</td>\n",
              "      <td>44</td>\n",
              "      <td>1</td>\n",
              "    </tr>\n",
              "    <tr>\n",
              "      <th>6</th>\n",
              "      <td>7</td>\n",
              "      <td>74</td>\n",
              "      <td>65</td>\n",
              "      <td>26</td>\n",
              "      <td>1</td>\n",
              "    </tr>\n",
              "    <tr>\n",
              "      <th>7</th>\n",
              "      <td>8</td>\n",
              "      <td>38</td>\n",
              "      <td>42</td>\n",
              "      <td>88</td>\n",
              "      <td>1</td>\n",
              "    </tr>\n",
              "    <tr>\n",
              "      <th>8</th>\n",
              "      <td>9</td>\n",
              "      <td>27</td>\n",
              "      <td>42</td>\n",
              "      <td>75</td>\n",
              "      <td>1</td>\n",
              "    </tr>\n",
              "    <tr>\n",
              "      <th>9</th>\n",
              "      <td>10</td>\n",
              "      <td>51</td>\n",
              "      <td>50</td>\n",
              "      <td>57</td>\n",
              "      <td>1</td>\n",
              "    </tr>\n",
              "    <tr>\n",
              "      <th>10</th>\n",
              "      <td>11</td>\n",
              "      <td>53</td>\n",
              "      <td>38</td>\n",
              "      <td>56</td>\n",
              "      <td>1</td>\n",
              "    </tr>\n",
              "    <tr>\n",
              "      <th>11</th>\n",
              "      <td>12</td>\n",
              "      <td>41</td>\n",
              "      <td>30</td>\n",
              "      <td>88</td>\n",
              "      <td>1</td>\n",
              "    </tr>\n",
              "    <tr>\n",
              "      <th>12</th>\n",
              "      <td>13</td>\n",
              "      <td>37</td>\n",
              "      <td>31</td>\n",
              "      <td>88</td>\n",
              "      <td>1</td>\n",
              "    </tr>\n",
              "    <tr>\n",
              "      <th>13</th>\n",
              "      <td>14</td>\n",
              "      <td>24</td>\n",
              "      <td>34</td>\n",
              "      <td>102</td>\n",
              "      <td>1</td>\n",
              "    </tr>\n",
              "    <tr>\n",
              "      <th>14</th>\n",
              "      <td>15</td>\n",
              "      <td>42</td>\n",
              "      <td>30</td>\n",
              "      <td>88</td>\n",
              "      <td>1</td>\n",
              "    </tr>\n",
              "    <tr>\n",
              "      <th>15</th>\n",
              "      <td>16</td>\n",
              "      <td>50</td>\n",
              "      <td>48</td>\n",
              "      <td>70</td>\n",
              "      <td>1</td>\n",
              "    </tr>\n",
              "    <tr>\n",
              "      <th>16</th>\n",
              "      <td>17</td>\n",
              "      <td>58</td>\n",
              "      <td>61</td>\n",
              "      <td>52</td>\n",
              "      <td>1</td>\n",
              "    </tr>\n",
              "    <tr>\n",
              "      <th>17</th>\n",
              "      <td>18</td>\n",
              "      <td>60</td>\n",
              "      <td>71</td>\n",
              "      <td>43</td>\n",
              "      <td>1</td>\n",
              "    </tr>\n",
              "    <tr>\n",
              "      <th>18</th>\n",
              "      <td>19</td>\n",
              "      <td>62</td>\n",
              "      <td>62</td>\n",
              "      <td>46</td>\n",
              "      <td>1</td>\n",
              "    </tr>\n",
              "    <tr>\n",
              "      <th>19</th>\n",
              "      <td>20</td>\n",
              "      <td>68</td>\n",
              "      <td>38</td>\n",
              "      <td>56</td>\n",
              "      <td>1</td>\n",
              "    </tr>\n",
              "    <tr>\n",
              "      <th>20</th>\n",
              "      <td>21</td>\n",
              "      <td>70</td>\n",
              "      <td>41</td>\n",
              "      <td>59</td>\n",
              "      <td>1</td>\n",
              "    </tr>\n",
              "    <tr>\n",
              "      <th>21</th>\n",
              "      <td>22</td>\n",
              "      <td>79</td>\n",
              "      <td>66</td>\n",
              "      <td>26</td>\n",
              "      <td>1</td>\n",
              "    </tr>\n",
              "    <tr>\n",
              "      <th>22</th>\n",
              "      <td>23</td>\n",
              "      <td>63</td>\n",
              "      <td>31</td>\n",
              "      <td>52</td>\n",
              "      <td>1</td>\n",
              "    </tr>\n",
              "    <tr>\n",
              "      <th>23</th>\n",
              "      <td>24</td>\n",
              "      <td>39</td>\n",
              "      <td>42</td>\n",
              "      <td>83</td>\n",
              "      <td>1</td>\n",
              "    </tr>\n",
              "    <tr>\n",
              "      <th>24</th>\n",
              "      <td>25</td>\n",
              "      <td>49</td>\n",
              "      <td>40</td>\n",
              "      <td>75</td>\n",
              "      <td>1</td>\n",
              "    </tr>\n",
              "  </tbody>\n",
              "</table>\n",
              "</div>"
            ],
            "text/plain": [
              "    obs  age  severity  satisfaction  constant\n",
              "0     1   55        50            68         1\n",
              "1     2   46        24            77         1\n",
              "2     3   30        46            96         1\n",
              "3     4   35        48            80         1\n",
              "4     5   59        58            43         1\n",
              "5     6   61        60            44         1\n",
              "6     7   74        65            26         1\n",
              "7     8   38        42            88         1\n",
              "8     9   27        42            75         1\n",
              "9    10   51        50            57         1\n",
              "10   11   53        38            56         1\n",
              "11   12   41        30            88         1\n",
              "12   13   37        31            88         1\n",
              "13   14   24        34           102         1\n",
              "14   15   42        30            88         1\n",
              "15   16   50        48            70         1\n",
              "16   17   58        61            52         1\n",
              "17   18   60        71            43         1\n",
              "18   19   62        62            46         1\n",
              "19   20   68        38            56         1\n",
              "20   21   70        41            59         1\n",
              "21   22   79        66            26         1\n",
              "22   23   63        31            52         1\n",
              "23   24   39        42            83         1\n",
              "24   25   49        40            75         1"
            ]
          },
          "execution_count": 18,
          "metadata": {},
          "output_type": "execute_result"
        }
      ],
      "source": [
        "import numpy as np\n",
        "import pandas as pd\n",
        "\n",
        "data = [[1,55,50,68],[2,46,24,77],[3,30,46,96],[4,35,48,80],[5,59,58,43],\n",
        "        [6,61,60,44],[7,74,65,26],[8,38,42,88],[9,27,42,75],[10,51,50,57],\n",
        "        [11,53,38,56],[12,41,30,88],[13,37,31,88],[14,24,34,102],[15,42,30,88],\n",
        "        [16,50,48,70],[17,58,61,52],[18,60,71,43],[19,62,62,46],[20,68,38,56],\n",
        "        [21,70,41,59],[22,79,66,26],[23,63,31,52],[24,39,42,83],[25,49,40,75]]\n",
        "\n",
        "df = pd.DataFrame(data, columns=['obs','age','severity','satisfaction'])\n",
        "df['constant'] = 1\n",
        "df"
      ]
    },
    {
      "cell_type": "code",
      "execution_count": 19,
      "metadata": {
        "id": "qDKWmglXw3kj",
        "outputId": "3d6d41d1-705d-418b-aa54-8a80c87ad3f5"
      },
      "outputs": [
        {
          "data": {
            "text/plain": [
              "((25, 3), (25,))"
            ]
          },
          "execution_count": 19,
          "metadata": {},
          "output_type": "execute_result"
        }
      ],
      "source": [
        "sel_cols = ['constant','age','severity']\n",
        "\n",
        "X = df[sel_cols].values\n",
        "y = df['satisfaction'].values\n",
        "\n",
        "X.shape, y.shape"
      ]
    },
    {
      "cell_type": "code",
      "execution_count": 20,
      "metadata": {
        "id": "OL0TRkcew3kl",
        "outputId": "184ea42a-ea8b-49ec-f433-cd332f6958d7"
      },
      "outputs": [
        {
          "data": {
            "text/plain": [
              "array([143.47201181,  -1.03105341,  -0.55603781])"
            ]
          },
          "execution_count": 20,
          "metadata": {},
          "output_type": "execute_result"
        }
      ],
      "source": [
        "xtx = np.matmul(X.transpose(), X)   # 3 x 3\n",
        "xty = np.matmul(X.transpose(), y)   # 3 x 1\n",
        "inv_xtx = np.linalg.inv(xtx)        # 3 x 3\n",
        "\n",
        "hat_beta = np.matmul(inv_xtx, xty)\n",
        "hat_beta"
      ]
    },
    {
      "cell_type": "markdown",
      "metadata": {
        "id": "nIgDXHZ2w3km"
      },
      "source": [
        "**Now using *statsmodels***"
      ]
    },
    {
      "cell_type": "code",
      "execution_count": 21,
      "metadata": {
        "id": "q1L-JugCw3km",
        "outputId": "d836a69d-c693-4f71-e7ba-53112384f98f"
      },
      "outputs": [
        {
          "name": "stdout",
          "output_type": "stream",
          "text": [
            "Intercept    143.472012\n",
            "age           -1.031053\n",
            "severity      -0.556038\n",
            "dtype: float64\n"
          ]
        }
      ],
      "source": [
        "import statsmodels.formula.api as smf\n",
        "\n",
        "reg = smf.ols('satisfaction ~ age + severity', data=df)\n",
        "# print(dir(reg))\n",
        "res = reg.fit()\n",
        "# print(dir(res))\n",
        "\n",
        "print(res.params)"
      ]
    },
    {
      "cell_type": "markdown",
      "metadata": {
        "id": "ZJdWCYZiw3kn"
      },
      "source": [
        "___"
      ]
    },
    {
      "cell_type": "markdown",
      "metadata": {
        "id": "R5wlxvEJw3ko"
      },
      "source": [
        "### 3.3 &nbsp;&nbsp; Statistical Inference in Linear Regression\n",
        "\n",
        "For this part, we require that $\\varepsilon_i \\sim \\mathrm{iid}N(0,\\sigma^2)$. This implies that  $y_i \\sim \\mathrm{iid}N(\\beta_0 + \\sum_{j=1}^{k}\\beta_j x_{ij}, \\sigma^2)$\n",
        "\n",
        "We define\n",
        "- *Residuals*: $e = y - X\\hat{\\beta}$\n",
        "- *Total sum of squares*: $\\mathrm{SST} = y^{\\mathrm{t}}y - n\\bar{y}^2$\n",
        "- *Sum of squares of the regression*: $\\mathrm{SSR} = \\hat{\\beta}^{\\mathrm{t}}X^{\\mathrm{t}}y - n\\bar{y}^2$\n",
        "- *Sum of squares of the residuals*: $\\mathrm{SSE} = y^{\\mathrm{t}}y - \\hat{\\beta}^{\\mathrm{t}}X^{\\mathrm{t}}y$\n",
        "\n",
        "Note that $$\\mathrm{SST} = \\mathrm{SSR} + \\mathrm{SSE}.$$"
      ]
    },
    {
      "cell_type": "markdown",
      "metadata": {
        "id": "-iI9XGBaw3kp"
      },
      "source": [
        "#### 3.3.1 &nbsp;&nbsp; Test for Significance of Regression\n",
        "\n",
        "\\begin{align*}\n",
        "    H_0~&:~ \\beta_1 = \\beta_2 = \\ldots = \\beta_k = 0 \\\\\n",
        "    H_1~&:~ \\beta_j \\neq 0, \\text{for some }j\n",
        "\\end{align*}\n",
        "\n",
        "The test statistic is $$F_0 = \\frac{\\mathrm{SSR}~/~k}{\\mathrm{SSE}~/~(n-p)},$$ and one rejects $H_0$ if the test statistic $F_0$ exceeds the upper tail point of the $F$ dsitribution with $(k,n-p)$ degrees of freedom.\n",
        "\n",
        "|src of var|sum of squares|degrees of freedom|mean square|test statistic|\n",
        "|----------|:------------:|:----------------:|-----------|--------------|\n",
        "|regression|SSR           |k                 |SSR/k      |$F_0$ = (SSR/k) / SSE/(n-p)|\n",
        "|residual (error)|SSE     |n-p               |SSE/(n-p)  |              |\n",
        "|total     |SST           |n-1               |           |              |\n",
        "\n",
        "The coefficient of multiple determination and its adjusted version are given by\n",
        "\\begin{align*}\n",
        "    R^2 = \\frac{SSR}{SST} = 1 - \\frac{SSE}{SST}, \\\\\n",
        "    R_{\\mathrm{adj}}^2 = 1 - \\frac{SSE~/~(n-p)}{SST~/~(n-1)}.\n",
        "\\end{align*}"
      ]
    },
    {
      "cell_type": "markdown",
      "metadata": {
        "id": "bN5hfJ6gw3kp"
      },
      "source": [
        "**Example (continuation)**"
      ]
    },
    {
      "cell_type": "code",
      "execution_count": 22,
      "metadata": {
        "id": "aUz_T3rQw3kp",
        "outputId": "bb706845-4305-4254-cda4-95d459f1d76b"
      },
      "outputs": [
        {
          "data": {
            "text/plain": [
              "np.True_"
            ]
          },
          "execution_count": 22,
          "metadata": {},
          "output_type": "execute_result"
        }
      ],
      "source": [
        "n=25\n",
        "k = 2\n",
        "p = k+1\n",
        "\n",
        "sst = np.matmul(y,y.transpose()) - n*y.mean()**2\n",
        "ssr = np.matmul(hat_beta.transpose(), np.matmul(X.transpose(), y)) - n*y.mean()**2\n",
        "sse = np.matmul(y.transpose(), y) - np.matmul(hat_beta.transpose(), np.matmul(X.transpose(), y))\n",
        "\n",
        "sst == ssr + sse"
      ]
    },
    {
      "cell_type": "code",
      "execution_count": 23,
      "metadata": {
        "id": "cR_-4-Jjw3kq",
        "outputId": "8f22aebe-79af-445b-fc32-67c2a29305d3"
      },
      "outputs": [
        {
          "name": "stdout",
          "output_type": "stream",
          "text": [
            "SST = 10778.240000000005 \n",
            "SSR = 9663.694050575825 \n",
            "SSE = 1114.5459494241804\n",
            "F = 95.37573090750838\n",
            "R^2 = 0.8965929549328852\n",
            "R_adj^2 = 0.8871923144722383\n"
          ]
        }
      ],
      "source": [
        "print('SST = {} \\nSSR = {} \\nSSE = {}'.format(sst,ssr,sse))\n",
        "print('F = {}'.format((ssr/k)/(sse/(n-p))))\n",
        "print('R^2 = {}'.format(ssr/sst))\n",
        "print('R_adj^2 = {}'.format(1-(sse/(n-p))/(sst/(n-1))))"
      ]
    },
    {
      "cell_type": "markdown",
      "metadata": {
        "id": "F_7fvjJtw3kr"
      },
      "source": [
        "**Now using *statsmodels***"
      ]
    },
    {
      "cell_type": "code",
      "execution_count": 24,
      "metadata": {
        "id": "WxLPv_h4w3kr",
        "outputId": "135960ea-bd7d-4a66-9e81-ed02ee98b314"
      },
      "outputs": [
        {
          "name": "stdout",
          "output_type": "stream",
          "text": [
            "SST = 10778.24 \n",
            "SSR = 9663.69405057539 \n",
            "SSE = 1114.5459494246102\n",
            "F = 95.37573090746731\n",
            "R^2 = 0.8965929549328452\n",
            "R_adj^2 = 0.8871923144721947\n"
          ]
        }
      ],
      "source": [
        "print('SST = {} \\nSSR = {} \\nSSE = {}'.format(res.ess+res.ssr ,res.ess, res.ssr))\n",
        "print('F = {}'.format(res.fvalue))\n",
        "print('R^2 = {}'.format(res.rsquared))\n",
        "print('R_adj^2 = {}'.format(res.rsquared_adj))"
      ]
    },
    {
      "cell_type": "markdown",
      "metadata": {
        "id": "v8r45DA2w3ks"
      },
      "source": [
        "#### 3.3.2 &nbsp;&nbsp; Test on Individual Regression Coefficients\n",
        "\n",
        "#### Test on Individual Regression Coefficients\n",
        "\n",
        "\\begin{align*}\n",
        "    H_0~&:~ \\beta_j = 0 \\\\\n",
        "    H_1~&:~ \\beta_j \\neq 0\n",
        "\\end{align*}\n",
        "\n",
        "The test statistic is $$t_0 = \\frac{\\hat{\\beta}_j}{\\sqrt{\\hat{\\sigma}^2 C_{jj}}},$$ where $\\hat{\\sigma}^2 = SSE~/~(n-p)$ and $C_{jj}$ is the diagonal element of the matrix $(X^{\\mathrm{t}}X)^{-1}$ corresponding to the regression coefficient $\\hat{\\beta}_j$. The null hypothesis $H_0$ is rejected if $|t_0| > t_{\\frac{\\alpha}{2},n-p}$.\n",
        "\n",
        "The denomitator $\\sqrt{\\hat{\\sigma}^2 C_{jj}}$ is called **standard error of the regression coefficient**, and we will denote it by $se(\\hat{\\beta}_j)$."
      ]
    },
    {
      "cell_type": "markdown",
      "metadata": {
        "id": "BEGTIXBBw3ks"
      },
      "source": [
        "**Example (continuation)**"
      ]
    },
    {
      "cell_type": "code",
      "execution_count": 25,
      "metadata": {
        "id": "ERw9ZA98w3ks",
        "outputId": "2ea8fe8f-00fc-4bb3-f48c-be06e6cfa765"
      },
      "outputs": [
        {
          "name": "stdout",
          "output_type": "stream",
          "text": [
            "t0-statistic for beta_0 : 24.093352877792313\n",
            "t0-statistic for beta_1 : -8.918286395170723\n",
            "t0-statistic for beta_2 : -4.231311719079824\n"
          ]
        }
      ],
      "source": [
        "hat_sigma_sq = sse/(n-p)\n",
        "t_0 = [ hat_beta[i] / np.sqrt(hat_sigma_sq*np.diag(inv_xtx)[i]) for i in range(len(hat_beta)) ]\n",
        "\n",
        "for i in range(len(hat_beta)):\n",
        "    print('t0-statistic for beta_{} : {}'.format(str(i), t_0[i]))"
      ]
    },
    {
      "cell_type": "code",
      "execution_count": 26,
      "metadata": {
        "id": "SU9wKCbww3kt",
        "outputId": "b956b4e3-1515-4735-c014-559ddf48e332"
      },
      "outputs": [
        {
          "name": "stdout",
          "output_type": "stream",
          "text": [
            "t0-statistic for beta_0 : 24.0933528777876\n",
            "t0-statistic for beta_1 : -8.918286395168971\n",
            "t0-statistic for beta_2 : -4.231311719078995\n"
          ]
        },
        {
          "name": "stderr",
          "output_type": "stream",
          "text": [
            "/var/folders/gw/6t_48cb11cq3wt9bjf_ns5p40000gn/T/ipykernel_94722/829614607.py:2: FutureWarning: Series.__getitem__ treating keys as positions is deprecated. In a future version, integer keys will always be treated as labels (consistent with DataFrame behavior). To access a value by position, use `ser.iloc[pos]`\n",
            "  print('t0-statistic for beta_{} : {}'.format(str(i), res.tvalues[i]))\n"
          ]
        }
      ],
      "source": [
        "for i in range(len(res.tvalues)):\n",
        "    print('t0-statistic for beta_{} : {}'.format(str(i), res.tvalues[i]))"
      ]
    },
    {
      "cell_type": "markdown",
      "metadata": {
        "id": "eJKAkBMoG0sZ"
      },
      "source": [
        "Repetir los cálculos para otra base de datos."
      ]
    },
    {
      "cell_type": "code",
      "execution_count": 27,
      "metadata": {
        "id": "Ef9ycRzhHMBe"
      },
      "outputs": [
        {
          "data": {
            "text/html": [
              "<div>\n",
              "<style scoped>\n",
              "    .dataframe tbody tr th:only-of-type {\n",
              "        vertical-align: middle;\n",
              "    }\n",
              "\n",
              "    .dataframe tbody tr th {\n",
              "        vertical-align: top;\n",
              "    }\n",
              "\n",
              "    .dataframe thead th {\n",
              "        text-align: right;\n",
              "    }\n",
              "</style>\n",
              "<table border=\"1\" class=\"dataframe\">\n",
              "  <thead>\n",
              "    <tr style=\"text-align: right;\">\n",
              "      <th></th>\n",
              "      <th>Hours Studied</th>\n",
              "      <th>Previous Scores</th>\n",
              "      <th>Extracurricular Activities</th>\n",
              "      <th>Sleep Hours</th>\n",
              "      <th>Sample Question Papers Practiced</th>\n",
              "      <th>Performance Index</th>\n",
              "      <th>constant</th>\n",
              "    </tr>\n",
              "  </thead>\n",
              "  <tbody>\n",
              "    <tr>\n",
              "      <th>0</th>\n",
              "      <td>7</td>\n",
              "      <td>99</td>\n",
              "      <td>Yes</td>\n",
              "      <td>9</td>\n",
              "      <td>1</td>\n",
              "      <td>91.0</td>\n",
              "      <td>1</td>\n",
              "    </tr>\n",
              "    <tr>\n",
              "      <th>1</th>\n",
              "      <td>4</td>\n",
              "      <td>82</td>\n",
              "      <td>No</td>\n",
              "      <td>4</td>\n",
              "      <td>2</td>\n",
              "      <td>65.0</td>\n",
              "      <td>1</td>\n",
              "    </tr>\n",
              "    <tr>\n",
              "      <th>2</th>\n",
              "      <td>8</td>\n",
              "      <td>51</td>\n",
              "      <td>Yes</td>\n",
              "      <td>7</td>\n",
              "      <td>2</td>\n",
              "      <td>45.0</td>\n",
              "      <td>1</td>\n",
              "    </tr>\n",
              "    <tr>\n",
              "      <th>3</th>\n",
              "      <td>5</td>\n",
              "      <td>52</td>\n",
              "      <td>Yes</td>\n",
              "      <td>5</td>\n",
              "      <td>2</td>\n",
              "      <td>36.0</td>\n",
              "      <td>1</td>\n",
              "    </tr>\n",
              "    <tr>\n",
              "      <th>4</th>\n",
              "      <td>7</td>\n",
              "      <td>75</td>\n",
              "      <td>No</td>\n",
              "      <td>8</td>\n",
              "      <td>5</td>\n",
              "      <td>66.0</td>\n",
              "      <td>1</td>\n",
              "    </tr>\n",
              "    <tr>\n",
              "      <th>...</th>\n",
              "      <td>...</td>\n",
              "      <td>...</td>\n",
              "      <td>...</td>\n",
              "      <td>...</td>\n",
              "      <td>...</td>\n",
              "      <td>...</td>\n",
              "      <td>...</td>\n",
              "    </tr>\n",
              "    <tr>\n",
              "      <th>9995</th>\n",
              "      <td>1</td>\n",
              "      <td>49</td>\n",
              "      <td>Yes</td>\n",
              "      <td>4</td>\n",
              "      <td>2</td>\n",
              "      <td>23.0</td>\n",
              "      <td>1</td>\n",
              "    </tr>\n",
              "    <tr>\n",
              "      <th>9996</th>\n",
              "      <td>7</td>\n",
              "      <td>64</td>\n",
              "      <td>Yes</td>\n",
              "      <td>8</td>\n",
              "      <td>5</td>\n",
              "      <td>58.0</td>\n",
              "      <td>1</td>\n",
              "    </tr>\n",
              "    <tr>\n",
              "      <th>9997</th>\n",
              "      <td>6</td>\n",
              "      <td>83</td>\n",
              "      <td>Yes</td>\n",
              "      <td>8</td>\n",
              "      <td>5</td>\n",
              "      <td>74.0</td>\n",
              "      <td>1</td>\n",
              "    </tr>\n",
              "    <tr>\n",
              "      <th>9998</th>\n",
              "      <td>9</td>\n",
              "      <td>97</td>\n",
              "      <td>Yes</td>\n",
              "      <td>7</td>\n",
              "      <td>0</td>\n",
              "      <td>95.0</td>\n",
              "      <td>1</td>\n",
              "    </tr>\n",
              "    <tr>\n",
              "      <th>9999</th>\n",
              "      <td>7</td>\n",
              "      <td>74</td>\n",
              "      <td>No</td>\n",
              "      <td>8</td>\n",
              "      <td>1</td>\n",
              "      <td>64.0</td>\n",
              "      <td>1</td>\n",
              "    </tr>\n",
              "  </tbody>\n",
              "</table>\n",
              "<p>10000 rows × 7 columns</p>\n",
              "</div>"
            ],
            "text/plain": [
              "      Hours Studied  Previous Scores Extracurricular Activities  Sleep Hours  \\\n",
              "0                 7               99                        Yes            9   \n",
              "1                 4               82                         No            4   \n",
              "2                 8               51                        Yes            7   \n",
              "3                 5               52                        Yes            5   \n",
              "4                 7               75                         No            8   \n",
              "...             ...              ...                        ...          ...   \n",
              "9995              1               49                        Yes            4   \n",
              "9996              7               64                        Yes            8   \n",
              "9997              6               83                        Yes            8   \n",
              "9998              9               97                        Yes            7   \n",
              "9999              7               74                         No            8   \n",
              "\n",
              "      Sample Question Papers Practiced  Performance Index  constant  \n",
              "0                                    1               91.0         1  \n",
              "1                                    2               65.0         1  \n",
              "2                                    2               45.0         1  \n",
              "3                                    2               36.0         1  \n",
              "4                                    5               66.0         1  \n",
              "...                                ...                ...       ...  \n",
              "9995                                 2               23.0         1  \n",
              "9996                                 5               58.0         1  \n",
              "9997                                 5               74.0         1  \n",
              "9998                                 0               95.0         1  \n",
              "9999                                 1               64.0         1  \n",
              "\n",
              "[10000 rows x 7 columns]"
            ]
          },
          "execution_count": 27,
          "metadata": {},
          "output_type": "execute_result"
        }
      ],
      "source": [
        "data = pd.read_csv('student_data.csv')\n",
        "data['constant'] = 1\n",
        "data"
      ]
    },
    {
      "cell_type": "code",
      "execution_count": 30,
      "metadata": {},
      "outputs": [
        {
          "name": "stdout",
          "output_type": "stream",
          "text": [
            "Intercept    143.472012\n",
            "age           -1.031053\n",
            "severity      -0.556038\n",
            "dtype: float64\n",
            "SST = 34112395.536624 \n",
            "SSR = 34066812.641360186 \n",
            "SSE = 45582.895263813436\n",
            "F = 8220.955182556167\n",
            "R^2 = 0.9986637439397983\n",
            "R_adj^2 = 0.9985422661161435\n",
            "SST = 10778.24 \n",
            "SSR = 9663.69405057539 \n",
            "SSE = 1114.5459494246102\n",
            "F = 95.37573090746731\n",
            "R^2 = 0.8965929549328452\n",
            "R_adj^2 = 0.8871923144721947\n",
            "t0-statistic for beta_0 : -12.123096571806807\n",
            "t0-statistic for beta_1 : 16.251115875704414\n",
            "t0-statistic for beta_2 : 38.81356262752781\n",
            "t0-statistic for beta_3 : 1.779344757204682\n",
            "t0-statistic for beta_0 : 24.0933528777876\n",
            "t0-statistic for beta_1 : -8.918286395168971\n",
            "t0-statistic for beta_2 : -4.231311719078995\n"
          ]
        },
        {
          "name": "stderr",
          "output_type": "stream",
          "text": [
            "/var/folders/gw/6t_48cb11cq3wt9bjf_ns5p40000gn/T/ipykernel_94722/2705821688.py:47: FutureWarning: Series.__getitem__ treating keys as positions is deprecated. In a future version, integer keys will always be treated as labels (consistent with DataFrame behavior). To access a value by position, use `ser.iloc[pos]`\n",
            "  print('t0-statistic for beta_{} : {}'.format(str(i), res.tvalues[i]))\n"
          ]
        }
      ],
      "source": [
        "import statsmodels.formula.api as smf\n",
        "\n",
        "sel_cols = ['constant', 'Hours Studied', 'Previous Scores', 'Sleep Hours']\n",
        "\n",
        "X = data[sel_cols].values\n",
        "y = data['Performance Index'].values\n",
        "\n",
        "xtx = np.matmul(X.transpose(), X)   # 3 x 3\n",
        "xty = np.matmul(X.transpose(), y)   # 3 x 1\n",
        "inv_xtx = np.linalg.inv(xtx)        # 3 x 3\n",
        "\n",
        "hat_beta = np.matmul(inv_xtx, xty)\n",
        "\n",
        "\n",
        "reg = smf.ols('satisfaction ~ age + severity', data=df)\n",
        "# print(dir(reg))\n",
        "res = reg.fit()\n",
        "# print(dir(res))\n",
        "\n",
        "print(res.params)\n",
        "n=25\n",
        "k = 2\n",
        "p = k+1\n",
        "\n",
        "sst = np.matmul(y,y.transpose()) - n*y.mean()**2\n",
        "ssr = np.matmul(hat_beta.transpose(), np.matmul(X.transpose(), y)) - n*y.mean()**2\n",
        "sse = np.matmul(y.transpose(), y) - np.matmul(hat_beta.transpose(), np.matmul(X.transpose(), y))\n",
        "\n",
        "sst == ssr + sse\n",
        "\n",
        "print('SST = {} \\nSSR = {} \\nSSE = {}'.format(sst,ssr,sse))\n",
        "print('F = {}'.format((ssr/k)/(sse/(n-p))))\n",
        "print('R^2 = {}'.format(ssr/sst))\n",
        "print('R_adj^2 = {}'.format(1-(sse/(n-p))/(sst/(n-1))))\n",
        "\n",
        "print('SST = {} \\nSSR = {} \\nSSE = {}'.format(res.ess+res.ssr ,res.ess, res.ssr))\n",
        "print('F = {}'.format(res.fvalue))\n",
        "print('R^2 = {}'.format(res.rsquared))\n",
        "print('R_adj^2 = {}'.format(res.rsquared_adj))\n",
        "\n",
        "hat_sigma_sq = sse/(n-p)\n",
        "t_0 = [ hat_beta[i] / np.sqrt(hat_sigma_sq*np.diag(inv_xtx)[i]) for i in range(len(hat_beta)) ]\n",
        "\n",
        "for i in range(len(hat_beta)):\n",
        "    print('t0-statistic for beta_{} : {}'.format(str(i), t_0[i]))\n",
        "for i in range(len(res.tvalues)):\n",
        "    print('t0-statistic for beta_{} : {}'.format(str(i), res.tvalues[i]))"
      ]
    }
  ],
  "metadata": {
    "colab": {
      "provenance": []
    },
    "kernelspec": {
      "display_name": "Reto_housing",
      "language": "python",
      "name": "python3"
    },
    "language_info": {
      "codemirror_mode": {
        "name": "ipython",
        "version": 3
      },
      "file_extension": ".py",
      "mimetype": "text/x-python",
      "name": "python",
      "nbconvert_exporter": "python",
      "pygments_lexer": "ipython3",
      "version": "3.12.11"
    }
  },
  "nbformat": 4,
  "nbformat_minor": 0
}
