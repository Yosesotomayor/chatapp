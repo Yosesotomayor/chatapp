{
 "cells": [
  {
   "cell_type": "code",
   "execution_count": 2,
   "id": "12b12c29",
   "metadata": {},
   "outputs": [],
   "source": [
    "import numpy as np\n",
    "import math"
   ]
  },
  {
   "cell_type": "markdown",
   "id": "6e074daf",
   "metadata": {},
   "source": [
    "### 1"
   ]
  },
  {
   "cell_type": "code",
   "execution_count": 10,
   "id": "815ae239",
   "metadata": {},
   "outputs": [
    {
     "name": "stdout",
     "output_type": "stream",
     "text": [
      "13.376543155953286\n",
      "1.852707458623214\n"
     ]
    }
   ],
   "source": [
    "N = 200\n",
    "mu, sigma = 13.5, 1.7\n",
    "\n",
    "x = np.random.normal(mu, sigma, N)\n",
    "\n",
    "print(float(np.mean(x)))\n",
    "print(np.std(x, ddof=0))"
   ]
  },
  {
   "cell_type": "markdown",
   "id": "3de95d3a",
   "metadata": {},
   "source": []
  },
  {
   "cell_type": "code",
   "execution_count": 16,
   "id": "ee799299",
   "metadata": {},
   "outputs": [
    {
     "name": "stdout",
     "output_type": "stream",
     "text": [
      "13.275679075779918 13.370336610280798 13.546565052573149\n"
     ]
    }
   ],
   "source": [
    "k = 50\n",
    "x_k1 = np.random.choice(x, k)\n",
    "x_k2 = np.random.choice(x, k)\n",
    "x_k3 = np.random.choice(x, k)\n",
    "\n",
    "mean_k1 = np.mean(x_k1)\n",
    "mean_k2 = np.mean(x_k2)\n",
    "mean_k3 = np.mean(x_k3)\n",
    "\n",
    "print(mean_k1, mean_k2, mean_k3)\n",
    "\n"
   ]
  },
  {
   "cell_type": "markdown",
   "id": "b2ecde07",
   "metadata": {},
   "source": [
    "### 2"
   ]
  },
  {
   "cell_type": "code",
   "execution_count": 19,
   "id": "89dccaca",
   "metadata": {},
   "outputs": [
    {
     "name": "stdout",
     "output_type": "stream",
     "text": [
      "[13.27567908 13.37033661 13.54656505]\n",
      "13.397526912877955\n",
      "0.11224760583133292\n"
     ]
    }
   ],
   "source": [
    "mean_Ks = np.array([mean_k1, mean_k2, mean_k3])\n",
    "print(mean_Ks)\n",
    "\n",
    "mean_means_Ks = np.mean(mean_Ks)\n",
    "print(mean_means_Ks)\n",
    "\n",
    "std_Ks = np.std(mean_Ks, ddof=0)\n",
    "print(std_Ks)"
   ]
  },
  {
   "cell_type": "code",
   "execution_count": null,
   "id": "51d12047",
   "metadata": {},
   "outputs": [
    {
     "name": "stdout",
     "output_type": "stream",
     "text": [
      "13.824105968328476 12.896126908873901 15.08488385227999\n"
     ]
    }
   ],
   "source": [
    "k_2 = 5\n",
    "x_k1_2 = np.random.choice(x, k_2)\n",
    "x_k2_2 = np.random.choice(x, k_2)\n",
    "x_k3_2 = np.random.choice(x, k_2)\n",
    "\n",
    "mean_k1_2 = np.mean(x_k1_2)\n",
    "mean_k2_2 = np.mean(x_k2_2)\n",
    "mean_k3_2 = np.mean(x_k3_2)\n",
    "\n",
    "print(mean_k1_2, mean_k2_2, mean_k3_2)\n"
   ]
  }
 ],
 "metadata": {
  "kernelspec": {
   "display_name": "Reto_housing",
   "language": "python",
   "name": "python3"
  },
  "language_info": {
   "codemirror_mode": {
    "name": "ipython",
    "version": 3
   },
   "file_extension": ".py",
   "mimetype": "text/x-python",
   "name": "python",
   "nbconvert_exporter": "python",
   "pygments_lexer": "ipython3",
   "version": "3.12.11"
  }
 },
 "nbformat": 4,
 "nbformat_minor": 5
}
