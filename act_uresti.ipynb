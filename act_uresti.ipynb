{
 "cells": [
  {
   "cell_type": "markdown",
   "id": "9b403d12",
   "metadata": {},
   "source": [
    "---"
   ]
  },
  {
   "cell_type": "markdown",
   "id": "152e026b",
   "metadata": {},
   "source": [
    "# Actividad Modulo 2"
   ]
  },
  {
   "cell_type": "markdown",
   "id": "e0e58cab",
   "metadata": {},
   "source": [
    "---"
   ]
  },
  {
   "cell_type": "markdown",
   "id": "f10a4c8d",
   "metadata": {},
   "source": [
    "## Importamos librerias necesarias"
   ]
  },
  {
   "cell_type": "code",
   "execution_count": 1,
   "id": "b6aba3da-ef4f-4634-b1f2-8786bc3bce65",
   "metadata": {},
   "outputs": [],
   "source": [
    "import numpy as np\n",
    "\n",
    "from matplotlib import pyplot as plt\n",
    "\n",
    "from sklearn.metrics import ConfusionMatrixDisplay, classification_report\n",
    "from sklearn.datasets import make_classification\n",
    "\n",
    "from NNMultiClass import NNMultiClass\n",
    "\n",
    "%matplotlib inline"
   ]
  },
  {
   "cell_type": "markdown",
   "id": "d6dbc81c",
   "metadata": {},
   "source": [
    "---"
   ]
  },
  {
   "cell_type": "markdown",
   "id": "cf7366a8",
   "metadata": {},
   "source": [
    "## Data Creation"
   ]
  },
  {
   "cell_type": "code",
   "execution_count": 2,
   "id": "14fa4265",
   "metadata": {},
   "outputs": [],
   "source": [
    "data = make_classification(\n",
    "    n_classes=2,\n",
    "    n_features=4,\n",
    "    n_samples=1000,\n",
    "    random_state=42\n",
    ")\n",
    "\n",
    "X = data[0]\n",
    "y = data[1]"
   ]
  },
  {
   "cell_type": "code",
   "execution_count": 3,
   "id": "81f2792e",
   "metadata": {},
   "outputs": [],
   "source": [
    "data = make_classification(\n",
    "    n_classes=2,\n",
    "    n_features=4,\n",
    "    n_samples=1000,\n",
    "    random_state=42\n",
    ")\n",
    "\n",
    "X = data[0]\n",
    "y = data[1]"
   ]
  },
  {
   "cell_type": "markdown",
   "id": "d24d184c",
   "metadata": {},
   "source": [
    "---"
   ]
  },
  {
   "cell_type": "markdown",
   "id": "e1668bb4",
   "metadata": {},
   "source": [
    "### Train-Test Split"
   ]
  },
  {
   "cell_type": "code",
   "execution_count": 4,
   "id": "1e0f0cd8",
   "metadata": {},
   "outputs": [],
   "source": [
    "test_percentage = 0.2\n",
    "\n",
    "X_train = X[:-int(test_percentage * X.shape[0])]\n",
    "y_train = y[:-int(test_percentage * y.shape[0])]\n",
    "\n",
    "X_test = X[-int(test_percentage * X.shape[0]):]\n",
    "y_test = y[-int(test_percentage * y.shape[0]):]"
   ]
  },
  {
   "cell_type": "markdown",
   "id": "22404559",
   "metadata": {},
   "source": [
    "---"
   ]
  },
  {
   "cell_type": "markdown",
   "id": "64d4679b",
   "metadata": {},
   "source": [
    "## Neural Network Configuration"
   ]
  },
  {
   "cell_type": "code",
   "execution_count": 5,
   "id": "f575a8d9",
   "metadata": {},
   "outputs": [
    {
     "name": "stdout",
     "output_type": "stream",
     "text": [
      "\n",
      "Pesos capa 0 (4 → 8):\n",
      "[[ 0.15235854 -0.51999205  0.3752256   0.47028236 -0.97551759 -0.65108975\n",
      "   0.0639202  -0.1581213 ]\n",
      " [-0.00840058 -0.42652196  0.43969899  0.38889597  0.03301535  0.5636206\n",
      "   0.23375467 -0.42964623]\n",
      " [ 0.18437539 -0.4794413   0.43922515 -0.02496296 -0.09243118 -0.34046477\n",
      "   0.61127067 -0.07726474]\n",
      " [-0.21416391 -0.17606678  0.26615459  0.18272203  0.20636631  0.2154105\n",
      "   1.0708238  -0.20320751]]\n",
      "\n",
      "Pesos capa 1 (8 → 2):\n",
      "[[-0.18110515 -0.28771211]\n",
      " [ 0.21778161  0.39915198]\n",
      " [-0.04028651 -0.29704017]\n",
      " [-0.29149813  0.23001929]\n",
      " [ 0.26278003  0.19203403]\n",
      " [-0.23529321  0.08208142]\n",
      " [ 0.04125466  0.07731809]\n",
      " [ 0.3080966   0.07905296]]\n"
     ]
    }
   ],
   "source": [
    "input_size = X_test.shape[1]\n",
    "output_size = len(np.unique(y))\n",
    "layers = 8\n",
    "\n",
    "layer_sizes = [input_size] + [layers] + [output_size]\n",
    "\n",
    "nn = NNMultiClass(layer_sizes=layer_sizes, hidden_activation=\"a\", seed=42, lr=3e-1)\n",
    "nn.show_weights()\n",
    "y_pred = nn.predict(X_test)"
   ]
  },
  {
   "cell_type": "markdown",
   "id": "2fd77e63",
   "metadata": {},
   "source": [
    "---"
   ]
  },
  {
   "cell_type": "markdown",
   "id": "c95008a9",
   "metadata": {},
   "source": [
    "## Pre - Backpropagation Prediction"
   ]
  },
  {
   "cell_type": "markdown",
   "id": "78f30787",
   "metadata": {},
   "source": [
    "---"
   ]
  },
  {
   "cell_type": "markdown",
   "id": "24c7baed",
   "metadata": {},
   "source": [
    "### Confusion Matrix"
   ]
  },
  {
   "cell_type": "code",
   "execution_count": 6,
   "id": "b45d7b2c",
   "metadata": {},
   "outputs": [
    {
     "data": {
      "image/png": "[encoded data removed]",
      "text/plain": [
       "<Figure size 640x480 with 2 Axes>"
      ]
     },
     "metadata": {},
     "output_type": "display_data"
    }
   ],
   "source": [
    "ConfusionMatrixDisplay.from_predictions(y_test, y_pred)\n",
    "plt.title(\"Confusion Matrix\")\n",
    "plt.show()"
   ]
  },
  {
   "cell_type": "markdown",
   "id": "b3cffcf0",
   "metadata": {},
   "source": [
    "---"
   ]
  },
  {
   "cell_type": "markdown",
   "id": "2689393c",
   "metadata": {},
   "source": [
    "### Classification Report"
   ]
  },
  {
   "cell_type": "code",
   "execution_count": 7,
   "id": "8c7eeb06",
   "metadata": {},
   "outputs": [
    {
     "name": "stdout",
     "output_type": "stream",
     "text": [
      "              precision    recall  f1-score   support\n",
      "\n",
      "           0       0.11      0.12      0.12        92\n",
      "           1       0.21      0.20      0.21       108\n",
      "\n",
      "    accuracy                           0.17       200\n",
      "   macro avg       0.16      0.16      0.16       200\n",
      "weighted avg       0.17      0.17      0.17       200\n",
      "\n"
     ]
    }
   ],
   "source": [
    "print(classification_report(y_test, y_pred))"
   ]
  },
  {
   "cell_type": "markdown",
   "id": "88a08faa",
   "metadata": {},
   "source": [
    "---"
   ]
  },
  {
   "cell_type": "markdown",
   "id": "ffce9a93",
   "metadata": {},
   "source": [
    "## Post - Backpropagation Prediction"
   ]
  },
  {
   "cell_type": "code",
   "execution_count": 8,
   "id": "538d0f0b",
   "metadata": {},
   "outputs": [
    {
     "name": "stdout",
     "output_type": "stream",
     "text": [
      "Epoch    1 | loss=0.4457 | acc=0.8562\n",
      "Epoch 1000 | loss=0.1853 | acc=0.9263\n",
      "Epoch 2000 | loss=0.1839 | acc=0.9287\n",
      "Epoch 3000 | loss=0.1767 | acc=0.9313\n",
      "Epoch 4000 | loss=0.1768 | acc=0.9337\n",
      "Epoch 5000 | loss=0.1756 | acc=0.9350\n",
      "Epoch 6000 | loss=0.1753 | acc=0.9300\n",
      "Epoch 7000 | loss=0.1757 | acc=0.9337\n",
      "Epoch 8000 | loss=0.1761 | acc=0.9325\n",
      "Epoch 9000 | loss=0.1752 | acc=0.9350\n",
      "Epoch 10000 | loss=0.1791 | acc=0.9287\n",
      "\n",
      "Pesos capa 0 (4 → 8):\n",
      "[[ -0.03964178  -4.00466263   8.93668166   0.27364352  -7.73295188\n",
      "   -0.70969741 -10.02025129  -1.17083607]\n",
      " [ -0.91926051   1.03623631   0.38754077  -0.17385738   1.31230202\n",
      "    1.01735634   2.67161797  -0.35434817]\n",
      " [  2.44348232  -0.56178977  -7.44464609   1.4436997    3.3033815\n",
      "   -1.32162797   4.47159706   0.6974695 ]\n",
      " [ -1.38601205   0.54491793   2.82275743  -0.5651545   -0.29852429\n",
      "    0.75194455   0.96354103  -0.42114624]]\n",
      "\n",
      "Pesos capa 1 (8 → 2):\n",
      "[[-1.23858537  0.76976811]\n",
      " [-0.43325293  1.05018653]\n",
      " [ 0.91771425 -1.25504093]\n",
      " [-1.29749944  1.2360206 ]\n",
      " [ 2.39564838 -1.94083431]\n",
      " [-1.30027709  1.1470653 ]\n",
      " [-1.01601595  1.13458871]\n",
      " [-1.15717017  1.54431974]]\n"
     ]
    }
   ],
   "source": [
    "nn.fit(X_train, y_train, epochs=10000, verbose=True)\n",
    "nn.show_weights()\n",
    "y_pred_back = nn.predict(X_test)"
   ]
  },
  {
   "cell_type": "markdown",
   "id": "833becb7",
   "metadata": {},
   "source": [
    "---"
   ]
  },
  {
   "cell_type": "markdown",
   "id": "74b6b295",
   "metadata": {},
   "source": [
    "### Confusion Matrix"
   ]
  },
  {
   "cell_type": "code",
   "execution_count": 9,
   "id": "64ac9392",
   "metadata": {},
   "outputs": [
    {
     "data": {
      "image/png": "[encoded data removed]",
      "text/plain": [
       "<Figure size 640x480 with 2 Axes>"
      ]
     },
     "metadata": {},
     "output_type": "display_data"
    }
   ],
   "source": [
    "ConfusionMatrixDisplay.from_predictions(y_test, y_pred_back)\n",
    "plt.title(\"Confusion Matrix\")\n",
    "plt.show()"
   ]
  },
  {
   "cell_type": "markdown",
   "id": "2b18bc7e",
   "metadata": {},
   "source": [
    "---"
   ]
  },
  {
   "cell_type": "markdown",
   "id": "1c76ffca",
   "metadata": {},
   "source": [
    "### Classification Report"
   ]
  },
  {
   "cell_type": "code",
   "execution_count": 10,
   "id": "f995d75a",
   "metadata": {},
   "outputs": [
    {
     "name": "stdout",
     "output_type": "stream",
     "text": [
      "              precision    recall  f1-score   support\n",
      "\n",
      "           0       0.87      0.96      0.91        92\n",
      "           1       0.96      0.88      0.92       108\n",
      "\n",
      "    accuracy                           0.92       200\n",
      "   macro avg       0.92      0.92      0.91       200\n",
      "weighted avg       0.92      0.92      0.92       200\n",
      "\n"
     ]
    }
   ],
   "source": [
    "print(classification_report(y_test, y_pred_back))"
   ]
  },
  {
   "cell_type": "markdown",
   "id": "53ac5479",
   "metadata": {},
   "source": [
    "---"
   ]
  }
 ],
 "metadata": {
  "kernelspec": {
   "display_name": "Reto_housing",
   "language": "python",
   "name": "python3"
  },
  "language_info": {
   "codemirror_mode": {
    "name": "ipython",
    "version": 3
   },
   "file_extension": ".py",
   "mimetype": "text/x-python",
   "name": "python",
   "nbconvert_exporter": "python",
   "pygments_lexer": "ipython3",
   "version": "3.12.11"
  }
 },
 "nbformat": 4,
 "nbformat_minor": 5
}
